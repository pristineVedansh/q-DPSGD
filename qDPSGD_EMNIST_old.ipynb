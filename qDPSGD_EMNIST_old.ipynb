{
  "nbformat": 4,
  "nbformat_minor": 0,
  "metadata": {
    "accelerator": "GPU",
    "colab": {
      "name": "qDPSGD_MNIST_old.ipynb",
      "provenance": [],
      "collapsed_sections": [],
      "include_colab_link": true
    },
    "kernelspec": {
      "display_name": "Python 3",
      "language": "python",
      "name": "python3"
    },
    "language_info": {
      "codemirror_mode": {
        "name": "ipython",
        "version": 3
      },
      "file_extension": ".py",
      "mimetype": "text/x-python",
      "name": "python",
      "nbconvert_exporter": "python",
      "pygments_lexer": "ipython3",
      "version": "3.7.4"
    }
  },
  "cells": [
    {
      "cell_type": "markdown",
      "metadata": {
        "id": "view-in-github",
        "colab_type": "text"
      },
      "source": [
        "<a href=\"https://colab.research.google.com/github/pristineVedansh/q-DPSGD/blob/main/qDPSGD_EMNIST_old.ipynb\" target=\"_parent\"><img src=\"https://colab.research.google.com/assets/colab-badge.svg\" alt=\"Open In Colab\"/></a>"
      ]
    },
    {
      "cell_type": "markdown",
      "metadata": {
        "id": "_0iZwcOO0s75"
      },
      "source": [
        "##Load Images"
      ]
    },
    {
      "cell_type": "code",
      "metadata": {
        "colab": {
          "base_uri": "https://localhost:8080/"
        },
        "id": "24mgFn4gLrYl",
        "outputId": "1a640032-86d7-4eb2-9d9e-fe861dd9ab07"
      },
      "source": [
        "import numpy as np\n",
        "from keras.datasets import mnist, cifar10, cifar100 \n",
        "from keras.utils import to_categorical\n",
        "import keras\n",
        "import tensorflow as tf\n",
        "from tensorflow.compat.v1 import ConfigProto\n",
        "from tensorflow.compat.v1 import InteractiveSession\n",
        "config = ConfigProto()\n",
        "config.gpu_options.per_process_gpu_memory_fraction = 0.9\n",
        "gpu_devices = tf.config.experimental.list_physical_devices(\"GPU\")\n",
        "for device in gpu_devices:\n",
        "    tf.config.experimental.set_memory_growth(device, True)\n",
        "\n",
        "!pip install tensorflow_privacy\n",
        "from tensorflow_privacy.privacy.analysis import compute_dp_sgd_privacy\n",
        "from tensorflow_privacy.privacy.analysis.rdp_accountant import compute_rdp\n",
        "from tensorflow_privacy.privacy.analysis.rdp_accountant import get_privacy_spent\n",
        "from tensorflow_privacy.privacy.optimizers.dp_optimizer_keras import DPKerasSGDOptimizer"
      ],
      "execution_count": null,
      "outputs": [
        {
          "output_type": "stream",
          "text": [
            "Collecting tensorflow_privacy\n",
            "\u001b[?25l  Downloading https://files.pythonhosted.org/packages/5e/53/31a388f82202a155f248f75cc0f45bd0b85a0ef020a2472e600dc19d38d6/tensorflow_privacy-0.5.2-py3-none-any.whl (192kB)\n",
            "\r\u001b[K     |█▊                              | 10kB 18.5MB/s eta 0:00:01\r\u001b[K     |███▍                            | 20kB 26.0MB/s eta 0:00:01\r\u001b[K     |█████                           | 30kB 23.2MB/s eta 0:00:01\r\u001b[K     |██████▉                         | 40kB 17.9MB/s eta 0:00:01\r\u001b[K     |████████▌                       | 51kB 14.9MB/s eta 0:00:01\r\u001b[K     |██████████▏                     | 61kB 17.0MB/s eta 0:00:01\r\u001b[K     |████████████                    | 71kB 13.8MB/s eta 0:00:01\r\u001b[K     |█████████████▋                  | 81kB 13.2MB/s eta 0:00:01\r\u001b[K     |███████████████▎                | 92kB 13.9MB/s eta 0:00:01\r\u001b[K     |█████████████████               | 102kB 14.1MB/s eta 0:00:01\r\u001b[K     |██████████████████▊             | 112kB 14.1MB/s eta 0:00:01\r\u001b[K     |████████████████████▍           | 122kB 14.1MB/s eta 0:00:01\r\u001b[K     |██████████████████████▏         | 133kB 14.1MB/s eta 0:00:01\r\u001b[K     |███████████████████████▉        | 143kB 14.1MB/s eta 0:00:01\r\u001b[K     |█████████████████████████▌      | 153kB 14.1MB/s eta 0:00:01\r\u001b[K     |███████████████████████████▏    | 163kB 14.1MB/s eta 0:00:01\r\u001b[K     |█████████████████████████████   | 174kB 14.1MB/s eta 0:00:01\r\u001b[K     |██████████████████████████████▋ | 184kB 14.1MB/s eta 0:00:01\r\u001b[K     |████████████████████████████████| 194kB 14.1MB/s \n",
            "\u001b[?25hRequirement already satisfied: scipy>=0.17 in /usr/local/lib/python3.7/dist-packages (from tensorflow_privacy) (1.4.1)\n",
            "Requirement already satisfied: dm-tree~=0.1.1 in /usr/local/lib/python3.7/dist-packages (from tensorflow_privacy) (0.1.6)\n",
            "Requirement already satisfied: tensorflow-estimator>=2.3.0 in /usr/local/lib/python3.7/dist-packages (from tensorflow_privacy) (2.4.0)\n",
            "Requirement already satisfied: mpmath in /usr/local/lib/python3.7/dist-packages (from tensorflow_privacy) (1.2.1)\n",
            "Requirement already satisfied: numpy>=1.13.3 in /usr/local/lib/python3.7/dist-packages (from scipy>=0.17->tensorflow_privacy) (1.19.5)\n",
            "Requirement already satisfied: six>=1.12.0 in /usr/local/lib/python3.7/dist-packages (from dm-tree~=0.1.1->tensorflow_privacy) (1.15.0)\n",
            "Installing collected packages: tensorflow-privacy\n",
            "Successfully installed tensorflow-privacy-0.5.2\n"
          ],
          "name": "stdout"
        }
      ]
    },
    {
      "cell_type": "code",
      "metadata": {
        "cellView": "code",
        "id": "zdtkLq-a3XVd"
      },
      "source": [
        "#@title Default title text\n",
        "learning_rate = 0.15\n",
        "noise_multiplier = 0.6\n",
        "l2_norm_clip = 1.0\n",
        "batch_size = 128\n",
        "epochs = 100\n",
        "microbatches = 128"
      ],
      "execution_count": null,
      "outputs": []
    },
    {
      "cell_type": "markdown",
      "metadata": {
        "id": "RYYoEYKtAMbW"
      },
      "source": [
        "Can switch among cifar10 | cifar100 | mnist"
      ]
    },
    {
      "cell_type": "code",
      "metadata": {
        "id": "7fy6Ncisq1q_",
        "colab": {
          "base_uri": "https://localhost:8080/"
        },
        "outputId": "66d35198-fa24-4c5e-b1e0-573eb8410af6"
      },
      "source": [
        "#(x_train, y_train_), (x_test, y_test_) = cifar10.load_data()\n",
        "#(x_train, y_train_), (x_test, y_test_) = cifar100.load_data()\n",
        "(x_train, y_train_), (x_test, y_test_) = mnist.load_data()"
      ],
      "execution_count": null,
      "outputs": [
        {
          "output_type": "stream",
          "text": [
            "Downloading data from https://storage.googleapis.com/tensorflow/tf-keras-datasets/mnist.npz\n",
            "11493376/11490434 [==============================] - 0s 0us/step\n"
          ],
          "name": "stdout"
        }
      ]
    },
    {
      "cell_type": "code",
      "metadata": {
        "id": "Rok3es7FTZz9"
      },
      "source": [
        "x_train = x_train.astype('float32') / 255\n",
        "x_test = x_test.astype('float32') / 255\n",
        "if( x_train.ndim < 4 ):\n",
        "    x_train = np.expand_dims( x_train, -1 )\n",
        "    x_test  = np.expand_dims( x_test,  -1 )"
      ],
      "execution_count": null,
      "outputs": []
    },
    {
      "cell_type": "code",
      "metadata": {
        "id": "-8GIUxRcq_Yc"
      },
      "source": [
        "y_train = to_categorical(y_train_)\n",
        "y_test = to_categorical(y_test_)"
      ],
      "execution_count": null,
      "outputs": []
    },
    {
      "cell_type": "markdown",
      "metadata": {
        "id": "HB4tl71n5NRo"
      },
      "source": [
        "## q-Neuron"
      ]
    },
    {
      "cell_type": "code",
      "metadata": {
        "id": "VvgSwMmAfcJz"
      },
      "source": [
        "import keras\n",
        "import keras.backend as K                                                                                                                                                             \n",
        "\n",
        "class Qact( keras.engine.Layer ):\n",
        "\n",
        "    def __init__( self, act, init_stddev=1., **kwargs ):\n",
        "        # init_stddev is the scale of randomness\n",
        "        \n",
        "        super( Qact, self ).__init__( **kwargs )\n",
        "\n",
        "        self.supports_masking = True\n",
        "        self.eps              = 1e-3\n",
        "\n",
        "        self.act              = act\n",
        "        self.init_stddev      = init_stddev\n",
        "\n",
        "    def build( self, input_shape ):\n",
        "        super( Qact, self ).build( input_shape )\n",
        "\n",
        "    def call( self, inputs ):\n",
        "        _stddev = self.init_stddev\n",
        "        Q = K.random_normal( shape=K.shape(inputs) )\n",
        "        Q = ( 2*K.cast( Q>=0, 'float32' )-1 ) * ( _stddev * K.abs(Q) + self.eps )\n",
        "\n",
        "        return ( self.act( inputs * (1+Q) ) - self.act( inputs ) ) / Q\n",
        "\n",
        "    def compute_output_shape( self, input_shape ):\n",
        "        return input_shape"
      ],
      "execution_count": null,
      "outputs": []
    },
    {
      "cell_type": "markdown",
      "metadata": {
        "id": "RUAVqRnj3Htd"
      },
      "source": [
        "## Compute Epsilon"
      ]
    },
    {
      "cell_type": "code",
      "metadata": {
        "colab": {
          "base_uri": "https://localhost:8080/",
          "height": 86
        },
        "id": "aYBCRE1W3GEk",
        "outputId": "5b9e8e09-b733-45d0-e31a-0f6a5af7d84e"
      },
      "source": [
        "\"\"\"\n",
        "def compute_epsilon(steps):\n",
        "    Computes epsilon value for given hyperparameters.\"\n",
        "    if noise_multiplier == 0.0:\n",
        "        return float('inf')\n",
        "    orders = [1 + x / 10. for x in range(1, 100)] + list(range(12, 64))\n",
        "    sampling_probability = batch_size / 60000\n",
        "    rdp = compute_rdp(q=sampling_probability,\n",
        "                    noise_multiplier=noise_multiplier,\n",
        "                    steps=steps,\n",
        "                    orders=orders)\n",
        "    # Delta is set to 1e-5 because MNIST has 60000 training points.\n",
        "    return get_privacy_spent(orders, rdp, target_delta=1e-5)[0]\n",
        "\"\"\""
      ],
      "execution_count": null,
      "outputs": [
        {
          "output_type": "execute_result",
          "data": {
            "application/vnd.google.colaboratory.intrinsic+json": {
              "type": "string"
            },
            "text/plain": [
              "'\\ndef compute_epsilon(steps):\\n    Computes epsilon value for given hyperparameters.\"\\n    if noise_multiplier == 0.0:\\n        return float(\\'inf\\')\\n    orders = [1 + x / 10. for x in range(1, 100)] + list(range(12, 64))\\n    sampling_probability = batch_size / 60000\\n    rdp = compute_rdp(q=sampling_probability,\\n                    noise_multiplier=noise_multiplier,\\n                    steps=steps,\\n                    orders=orders)\\n    # Delta is set to 1e-5 because MNIST has 60000 training points.\\n    return get_privacy_spent(orders, rdp, target_delta=1e-5)[0]\\n'"
            ]
          },
          "metadata": {
            "tags": []
          },
          "execution_count": 7
        }
      ]
    },
    {
      "cell_type": "markdown",
      "metadata": {
        "id": "HvRnn2bXz7kR"
      },
      "source": [
        "## CNN"
      ]
    },
    {
      "cell_type": "code",
      "metadata": {
        "id": "OGrAd2LbriPX"
      },
      "source": [
        "from keras.models import Sequential\n",
        "from keras.layers import Conv2D, MaxPool2D, Flatten, Dense"
      ],
      "execution_count": null,
      "outputs": []
    },
    {
      "cell_type": "code",
      "metadata": {
        "id": "INYGyQJM4Gdz"
      },
      "source": [
        "optimizer = DPKerasSGDOptimizer(\n",
        "        l2_norm_clip=l2_norm_clip,\n",
        "        noise_multiplier=noise_multiplier,\n",
        "        num_microbatches=microbatches,\n",
        "        learning_rate=learning_rate)\n",
        "\n",
        "loss = keras.losses.CategoricalCrossentropy(\n",
        "        from_logits=True, reduction=tf.losses.Reduction.NONE)"
      ],
      "execution_count": null,
      "outputs": []
    },
    {
      "cell_type": "code",
      "metadata": {
        "id": "CkduO2Qwrxpq"
      },
      "source": [
        "model = Sequential()\n",
        "model.add(Conv2D(filters=32, \n",
        "                kernel_size=(3, 3),\n",
        "                activation='sigmoid',\n",
        "                input_shape=x_train.shape[1:]))\n",
        "\n",
        "model.add(MaxPool2D())\n",
        "model.add(Conv2D(filters=64,\n",
        "                kernel_size=(3, 3),\n",
        "                activation='sigmoid'))\n",
        "model.add(MaxPool2D())\n",
        "model.add(Flatten())\n",
        "model.add(Dense(y_train.shape[1], activation='softmax'))\n",
        "model.compile(optimizer=optimizer, loss=loss, metrics=['accuracy'])"
      ],
      "execution_count": null,
      "outputs": []
    },
    {
      "cell_type": "code",
      "metadata": {
        "id": "30lPhgq2tSGh"
      },
      "source": [
        "\n",
        "qmodel = Sequential()\n",
        "qmodel.add(Conv2D(filters=32, \n",
        "                kernel_size=(3, 3),\n",
        "                input_shape=x_train.shape[1:]))\n",
        "qmodel.add(Qact(keras.activations.sigmoid))\n",
        "\n",
        "qmodel.add(MaxPool2D())\n",
        "qmodel.add(Conv2D(filters=64,\n",
        "                kernel_size=(3, 3)))\n",
        "qmodel.add(Qact(keras.activations.sigmoid))\n",
        "\n",
        "qmodel.add(MaxPool2D())\n",
        "qmodel.add(Flatten())\n",
        "qmodel.add(Dense(y_train.shape[1], activation='softmax'))\n",
        "qmodel.compile(optimizer=optimizer, loss=loss, metrics=['accuracy'])"
      ],
      "execution_count": null,
      "outputs": []
    },
    {
      "cell_type": "markdown",
      "metadata": {
        "id": "6xnTf9mfyxqh"
      },
      "source": [
        "## Training"
      ]
    },
    {
      "cell_type": "markdown",
      "metadata": {
        "id": "C0a65iAk0RAN"
      },
      "source": [
        "## Plot the training/validation curves"
      ]
    },
    {
      "cell_type": "code",
      "metadata": {
        "colab": {
          "background_save": true,
          "base_uri": "https://localhost:8080/"
        },
        "id": "POFObjd0td4x",
        "outputId": "1551dcb5-e39f-4f15-f4ef-d08c960e4dec"
      },
      "source": [
        "history  =  model.fit(x_train, y_train, batch_size=batch_size, epochs=epochs, verbose=1, validation_split=0.20)"
      ],
      "execution_count": null,
      "outputs": [
        {
          "output_type": "stream",
          "text": [
            "Epoch 1/100\n",
            "375/375 [==============================] - 66s 127ms/step - loss: 2.3143 - accuracy: 0.1059 - val_loss: 2.3088 - val_accuracy: 0.0769\n",
            "Epoch 2/100\n",
            "375/375 [==============================] - 47s 126ms/step - loss: 2.3068 - accuracy: 0.1059 - val_loss: 2.3021 - val_accuracy: 0.0995\n",
            "Epoch 3/100\n",
            "375/375 [==============================] - 48s 127ms/step - loss: 2.3027 - accuracy: 0.1114 - val_loss: 2.2972 - val_accuracy: 0.1060\n",
            "Epoch 4/100\n",
            "375/375 [==============================] - 48s 127ms/step - loss: 2.2984 - accuracy: 0.1257 - val_loss: 2.2922 - val_accuracy: 0.2685\n",
            "Epoch 5/100\n",
            "375/375 [==============================] - 48s 127ms/step - loss: 2.2931 - accuracy: 0.1311 - val_loss: 2.2887 - val_accuracy: 0.1067\n",
            "Epoch 6/100\n",
            "375/375 [==============================] - 47s 127ms/step - loss: 2.2840 - accuracy: 0.1414 - val_loss: 2.2781 - val_accuracy: 0.0998\n",
            "Epoch 7/100\n",
            "375/375 [==============================] - 47s 125ms/step - loss: 2.2675 - accuracy: 0.1753 - val_loss: 2.2447 - val_accuracy: 0.1248\n",
            "Epoch 8/100\n",
            "375/375 [==============================] - 48s 127ms/step - loss: 2.2363 - accuracy: 0.2337 - val_loss: 2.1964 - val_accuracy: 0.3302\n",
            "Epoch 9/100\n",
            "375/375 [==============================] - 47s 125ms/step - loss: 2.1725 - accuracy: 0.3272 - val_loss: 2.0948 - val_accuracy: 0.2372\n",
            "Epoch 10/100\n",
            "375/375 [==============================] - 48s 127ms/step - loss: 2.0421 - accuracy: 0.4372 - val_loss: 1.8598 - val_accuracy: 0.5135\n",
            "Epoch 11/100\n",
            "375/375 [==============================] - 47s 126ms/step - loss: 1.7717 - accuracy: 0.5578 - val_loss: 1.4359 - val_accuracy: 0.6566\n",
            "Epoch 12/100\n",
            "375/375 [==============================] - 47s 126ms/step - loss: 1.3481 - accuracy: 0.6372 - val_loss: 1.0369 - val_accuracy: 0.6726\n",
            "Epoch 13/100\n",
            "375/375 [==============================] - 47s 125ms/step - loss: 0.9709 - accuracy: 0.7037 - val_loss: 0.7325 - val_accuracy: 0.7701\n",
            "Epoch 14/100\n",
            "375/375 [==============================] - 47s 126ms/step - loss: 0.7446 - accuracy: 0.7589 - val_loss: 0.6126 - val_accuracy: 0.8073\n",
            "Epoch 15/100\n",
            "375/375 [==============================] - 47s 126ms/step - loss: 0.6432 - accuracy: 0.7882 - val_loss: 0.5516 - val_accuracy: 0.8256\n",
            "Epoch 16/100\n",
            "375/375 [==============================] - 48s 128ms/step - loss: 0.5872 - accuracy: 0.8096 - val_loss: 0.5111 - val_accuracy: 0.8422\n",
            "Epoch 17/100\n",
            "375/375 [==============================] - 48s 127ms/step - loss: 0.5410 - accuracy: 0.8273 - val_loss: 0.4753 - val_accuracy: 0.8531\n",
            "Epoch 18/100\n",
            "375/375 [==============================] - 48s 128ms/step - loss: 0.5185 - accuracy: 0.8393 - val_loss: 0.4586 - val_accuracy: 0.8597\n",
            "Epoch 19/100\n",
            "375/375 [==============================] - 48s 127ms/step - loss: 0.5098 - accuracy: 0.8437 - val_loss: 0.4473 - val_accuracy: 0.8655\n",
            "Epoch 20/100\n",
            "375/375 [==============================] - 47s 126ms/step - loss: 0.4899 - accuracy: 0.8534 - val_loss: 0.4372 - val_accuracy: 0.8714\n",
            "Epoch 21/100\n",
            "375/375 [==============================] - 47s 126ms/step - loss: 0.4845 - accuracy: 0.8597 - val_loss: 0.4259 - val_accuracy: 0.8765\n",
            "Epoch 22/100\n",
            "375/375 [==============================] - 47s 126ms/step - loss: 0.4609 - accuracy: 0.8663 - val_loss: 0.4175 - val_accuracy: 0.8802\n",
            "Epoch 23/100\n",
            "375/375 [==============================] - 48s 127ms/step - loss: 0.4512 - accuracy: 0.8714 - val_loss: 0.4066 - val_accuracy: 0.8845\n",
            "Epoch 24/100\n",
            "375/375 [==============================] - 47s 126ms/step - loss: 0.4494 - accuracy: 0.8729 - val_loss: 0.3939 - val_accuracy: 0.8903\n",
            "Epoch 25/100\n",
            "375/375 [==============================] - 48s 128ms/step - loss: 0.4330 - accuracy: 0.8771 - val_loss: 0.3877 - val_accuracy: 0.8932\n",
            "Epoch 26/100\n",
            "375/375 [==============================] - 48s 127ms/step - loss: 0.4250 - accuracy: 0.8832 - val_loss: 0.3797 - val_accuracy: 0.8960\n",
            "Epoch 27/100\n",
            "375/375 [==============================] - 47s 126ms/step - loss: 0.4223 - accuracy: 0.8845 - val_loss: 0.3731 - val_accuracy: 0.8978\n",
            "Epoch 28/100\n",
            "375/375 [==============================] - 48s 127ms/step - loss: 0.4125 - accuracy: 0.8851 - val_loss: 0.3684 - val_accuracy: 0.8998\n",
            "Epoch 29/100\n",
            "375/375 [==============================] - 48s 127ms/step - loss: 0.4023 - accuracy: 0.8908 - val_loss: 0.3631 - val_accuracy: 0.9034\n",
            "Epoch 30/100\n",
            "375/375 [==============================] - 48s 127ms/step - loss: 0.3810 - accuracy: 0.8961 - val_loss: 0.3544 - val_accuracy: 0.9051\n",
            "Epoch 31/100\n",
            "375/375 [==============================] - 48s 128ms/step - loss: 0.3821 - accuracy: 0.8972 - val_loss: 0.3514 - val_accuracy: 0.9068\n",
            "Epoch 32/100\n",
            "375/375 [==============================] - 48s 127ms/step - loss: 0.3842 - accuracy: 0.8966 - val_loss: 0.3425 - val_accuracy: 0.9102\n",
            "Epoch 33/100\n",
            "375/375 [==============================] - 48s 127ms/step - loss: 0.3656 - accuracy: 0.9036 - val_loss: 0.3392 - val_accuracy: 0.9097\n",
            "Epoch 34/100\n",
            "375/375 [==============================] - 47s 127ms/step - loss: 0.3737 - accuracy: 0.9004 - val_loss: 0.3311 - val_accuracy: 0.9126\n",
            "Epoch 35/100\n",
            "375/375 [==============================] - 48s 127ms/step - loss: 0.3638 - accuracy: 0.9047 - val_loss: 0.3255 - val_accuracy: 0.9146\n",
            "Epoch 36/100\n",
            "375/375 [==============================] - 47s 127ms/step - loss: 0.3465 - accuracy: 0.9086 - val_loss: 0.3187 - val_accuracy: 0.9182\n",
            "Epoch 38/100\n",
            "375/375 [==============================] - 47s 126ms/step - loss: 0.3532 - accuracy: 0.9080 - val_loss: 0.3155 - val_accuracy: 0.9183\n",
            "Epoch 39/100\n",
            "375/375 [==============================] - 47s 126ms/step - loss: 0.3500 - accuracy: 0.9091 - val_loss: 0.3113 - val_accuracy: 0.9214\n",
            "Epoch 40/100\n",
            "375/375 [==============================] - 47s 126ms/step - loss: 0.3405 - accuracy: 0.9123 - val_loss: 0.3062 - val_accuracy: 0.9218\n",
            "Epoch 41/100\n",
            "375/375 [==============================] - 47s 126ms/step - loss: 0.3314 - accuracy: 0.9164 - val_loss: 0.3022 - val_accuracy: 0.9232\n",
            "Epoch 42/100\n",
            "183/375 [=============>................] - ETA: 24s - loss: 0.3147 - accuracy: 0.9203"
          ],
          "name": "stdout"
        }
      ]
    },
    {
      "cell_type": "code",
      "metadata": {
        "id": "C9OoE4QiXnDc"
      },
      "source": [
        "qhistory = qmodel.fit(x_train, y_train, batch_size=batch_size, epochs=epochs, verbose=1, validation_split=0.20)"
      ],
      "execution_count": null,
      "outputs": []
    },
    {
      "cell_type": "code",
      "metadata": {
        "id": "MfQvnsVV_37N"
      },
      "source": [
        "import matplotlib.pyplot as plt\n",
        "\n",
        "loss  = history.history['loss']\n",
        "val   = history.history['val_accuracy']\n",
        "qloss = qhistory.history['loss']\n",
        "qval  = qhistory.history['val_accuracy']\n",
        "\n",
        "\n",
        "epochs = range(1, len(history.history['accuracy']) + 1)\n",
        "qepochs = range(1, len(qhistory.history['accuracy']) + 1)"
      ],
      "execution_count": null,
      "outputs": []
    },
    {
      "cell_type": "code",
      "metadata": {
        "id": "T9y0Tt9k6UId"
      },
      "source": [
        ""
      ],
      "execution_count": null,
      "outputs": []
    },
    {
      "cell_type": "code",
      "metadata": {
        "id": "pC9glebZCQfe"
      },
      "source": [
        "fig, ax1 = plt.subplots(figsize=(12, 10), dpi=100)\n",
        "ax1.plot(epochs, loss,  'bo', ls=\"--\", label='Training loss')\n",
        "ax1.plot(qepochs, qloss, 'ro', ls=\"--\", label=\"Training loss (q-DPSGD)\")\n",
        "\n",
        "ax2 = ax1.twinx()\n",
        "ax2.plot(epochs, val,   'bd', ls=\"-.\", label='Validation acc')\n",
        "ax2.plot(qepochs, qval,  'rd', ls=\"-.\", label='Validation acc (q-DPSGD)')\n",
        "\n",
        "ax1.set_xlabel('Epochs')\n",
        "ax1.set_ylabel('Loss')\n",
        "ax2.set_ylabel('Accuracy')\n",
        "ax1.legend(loc=1)\n",
        "ax2.legend(loc=5)\n",
        "plt.show()"
      ],
      "execution_count": null,
      "outputs": []
    },
    {
      "cell_type": "code",
      "metadata": {
        "id": "fr-NCgVd6iV4"
      },
      "source": [
        "fig, ax1 = plt.subplots(figsize=(12, 10), dpi=100)\n",
        "#fig.suptitle('Training on MNIST', fontsize=20)\n",
        "ax1.plot(epochs, loss,  'bo', ls=\"--\", label='Training loss (q-DPSGD)')\n",
        "ax1.plot(qepochs, qloss, 'ro', ls=\"--\", label=\"Training loss\")\n",
        "\n",
        "ax2 = ax1.twinx()\n",
        "ax2.plot(epochs, val,   'bd', ls=\"-.\", label='Validation acc (q-DPSGD)')\n",
        "ax2.plot(qepochs, qval,  'rd', ls=\"-.\", label='Validation acc')\n",
        "\n",
        "ax1.set_xlabel('Epochs')\n",
        "ax1.set_ylabel('Loss')\n",
        "ax2.set_ylabel('Accuracy')\n",
        "ax1.legend(loc=10)\n",
        "ax2.legend(loc=5)\n",
        "plt.show()"
      ],
      "execution_count": null,
      "outputs": []
    },
    {
      "cell_type": "code",
      "metadata": {
        "id": "1hf3QIvqzoZ9"
      },
      "source": [
        "model.evaluate(x=x_test, y=y_test)"
      ],
      "execution_count": null,
      "outputs": []
    },
    {
      "cell_type": "code",
      "metadata": {
        "id": "qBZq2mKx5f1q"
      },
      "source": [
        "qmodel.evaluate(x=x_test, y=y_test)"
      ],
      "execution_count": null,
      "outputs": []
    }
  ]
}